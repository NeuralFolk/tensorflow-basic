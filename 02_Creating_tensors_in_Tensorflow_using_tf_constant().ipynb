{
  "nbformat": 4,
  "nbformat_minor": 0,
  "metadata": {
    "colab": {
      "provenance": [],
      "authorship_tag": "ABX9TyMSN1MJ/yBCeQsA+6Nl8lei",
      "include_colab_link": true
    },
    "kernelspec": {
      "name": "python3",
      "display_name": "Python 3"
    },
    "language_info": {
      "name": "python"
    }
  },
  "cells": [
    {
      "cell_type": "markdown",
      "metadata": {
        "id": "view-in-github",
        "colab_type": "text"
      },
      "source": [
        "<a href=\"https://colab.research.google.com/github/NeuralFolk/tensorflow-basic/blob/main/02_Creating_tensors_in_Tensorflow_using_tf_constant().ipynb\" target=\"_parent\"><img src=\"https://colab.research.google.com/assets/colab-badge.svg\" alt=\"Open In Colab\"/></a>"
      ]
    },
    {
      "cell_type": "code",
      "execution_count": null,
      "metadata": {
        "colab": {
          "base_uri": "https://localhost:8080/"
        },
        "id": "w1yRuIxvtXj_",
        "outputId": "d7328f5f-ad91-418a-facb-80589b7eec27"
      },
      "outputs": [
        {
          "output_type": "stream",
          "name": "stdout",
          "text": [
            "tf.Tensor(10, shape=(), dtype=int64)\n"
          ]
        }
      ],
      "source": [
        "import tensorflow as tf\n",
        "scalar = tf.constant(10, dtype=tf.int64)\n",
        "\n",
        "print(scalar)"
      ]
    },
    {
      "cell_type": "code",
      "source": [
        "tf.print(scalar)"
      ],
      "metadata": {
        "colab": {
          "base_uri": "https://localhost:8080/"
        },
        "id": "JOxuSKWXvN_5",
        "outputId": "7a087b0b-af49-4dca-9682-0db4988f3896"
      },
      "execution_count": null,
      "outputs": [
        {
          "output_type": "stream",
          "name": "stdout",
          "text": [
            "10\n"
          ]
        }
      ]
    },
    {
      "cell_type": "code",
      "source": [
        "vector = [2, 4, 6, 8, 5]\n",
        "\n",
        "vector_constant = tf.constant(vector)"
      ],
      "metadata": {
        "id": "brPZaYdUvmPb"
      },
      "execution_count": null,
      "outputs": []
    },
    {
      "cell_type": "code",
      "source": [
        "print(vector_constant)"
      ],
      "metadata": {
        "colab": {
          "base_uri": "https://localhost:8080/"
        },
        "id": "gAECraKlv8pN",
        "outputId": "90a617ea-6c52-45b5-d637-dd886aa54c58"
      },
      "execution_count": null,
      "outputs": [
        {
          "output_type": "stream",
          "name": "stdout",
          "text": [
            "tf.Tensor([2 4 6 8 5], shape=(5,), dtype=int32)\n"
          ]
        }
      ]
    },
    {
      "cell_type": "code",
      "source": [
        "vector_constant.ndim"
      ],
      "metadata": {
        "colab": {
          "base_uri": "https://localhost:8080/"
        },
        "id": "C_l7u1Guv_0S",
        "outputId": "9afe8837-4fa9-4077-b99a-9a069b8545f5"
      },
      "execution_count": null,
      "outputs": [
        {
          "output_type": "execute_result",
          "data": {
            "text/plain": [
              "1"
            ]
          },
          "metadata": {},
          "execution_count": 14
        }
      ]
    },
    {
      "cell_type": "code",
      "source": [
        "vector_constant.shape"
      ],
      "metadata": {
        "colab": {
          "base_uri": "https://localhost:8080/"
        },
        "id": "-NsesqJUwLX9",
        "outputId": "eaeb3b5f-2e1f-4a34-e880-5e077ea1f6c5"
      },
      "execution_count": null,
      "outputs": [
        {
          "output_type": "execute_result",
          "data": {
            "text/plain": [
              "TensorShape([5])"
            ]
          },
          "metadata": {},
          "execution_count": 27
        }
      ]
    },
    {
      "cell_type": "code",
      "source": [
        "matrix = tf.constant([\n",
        "    [2, 4, 6, 8, 5],\n",
        "    [2, 4, 6, 8, 5],\n",
        "    [2, 4, 6, 8, 5],\n",
        "])"
      ],
      "metadata": {
        "id": "RwCotCUOHU6j"
      },
      "execution_count": null,
      "outputs": []
    },
    {
      "cell_type": "code",
      "source": [
        "matrix"
      ],
      "metadata": {
        "colab": {
          "base_uri": "https://localhost:8080/"
        },
        "id": "IgmdGtc_HtDz",
        "outputId": "98d3b7b2-72c2-4dea-e589-ffe093c64728"
      },
      "execution_count": null,
      "outputs": [
        {
          "output_type": "execute_result",
          "data": {
            "text/plain": [
              "<tf.Tensor: shape=(3, 5), dtype=int32, numpy=\n",
              "array([[2, 4, 6, 8, 5],\n",
              "       [2, 4, 6, 8, 5],\n",
              "       [2, 4, 6, 8, 5]], dtype=int32)>"
            ]
          },
          "metadata": {},
          "execution_count": 36
        }
      ]
    },
    {
      "cell_type": "code",
      "source": [
        "3 * 5"
      ],
      "metadata": {
        "colab": {
          "base_uri": "https://localhost:8080/"
        },
        "id": "wdhobJjjHyAp",
        "outputId": "9665fabd-44d7-4904-d912-9a011ec17992"
      },
      "execution_count": null,
      "outputs": [
        {
          "output_type": "execute_result",
          "data": {
            "text/plain": [
              "15"
            ]
          },
          "metadata": {},
          "execution_count": 37
        }
      ]
    },
    {
      "cell_type": "code",
      "source": [
        "tf.size(matrix)"
      ],
      "metadata": {
        "colab": {
          "base_uri": "https://localhost:8080/"
        },
        "id": "yrMEhO3UI_VF",
        "outputId": "c1b3827f-d13e-4c0c-ef55-a3c1a47a7714"
      },
      "execution_count": null,
      "outputs": [
        {
          "output_type": "execute_result",
          "data": {
            "text/plain": [
              "<tf.Tensor: shape=(), dtype=int32, numpy=15>"
            ]
          },
          "metadata": {},
          "execution_count": 39
        }
      ]
    },
    {
      "cell_type": "code",
      "source": [
        "tf.size(scalar)"
      ],
      "metadata": {
        "colab": {
          "base_uri": "https://localhost:8080/"
        },
        "id": "dhkHv8C7JKfX",
        "outputId": "9cfbd83b-93f6-4e72-ffd7-eafa06b703e8"
      },
      "execution_count": null,
      "outputs": [
        {
          "output_type": "execute_result",
          "data": {
            "text/plain": [
              "<tf.Tensor: shape=(), dtype=int32, numpy=1>"
            ]
          },
          "metadata": {},
          "execution_count": 40
        }
      ]
    },
    {
      "cell_type": "code",
      "source": [
        "tf.size(vector)"
      ],
      "metadata": {
        "colab": {
          "base_uri": "https://localhost:8080/"
        },
        "id": "LPVr43VtJPG5",
        "outputId": "f41105a3-aa7d-4f99-e26a-fbf6686e1b62"
      },
      "execution_count": null,
      "outputs": [
        {
          "output_type": "execute_result",
          "data": {
            "text/plain": [
              "<tf.Tensor: shape=(), dtype=int32, numpy=5>"
            ]
          },
          "metadata": {},
          "execution_count": 41
        }
      ]
    },
    {
      "cell_type": "code",
      "source": [
        "_tensor = [[[\n",
        "    2, 4, 6, 8\n",
        "]]]\n",
        "\n",
        "tensor = tf.constant(_tensor)"
      ],
      "metadata": {
        "id": "YhFqdEupJTPI"
      },
      "execution_count": null,
      "outputs": []
    },
    {
      "cell_type": "code",
      "source": [
        "tensor"
      ],
      "metadata": {
        "colab": {
          "base_uri": "https://localhost:8080/"
        },
        "id": "k6BFkzCSJrYU",
        "outputId": "084eda8e-247c-4d65-c72f-800de7b60280"
      },
      "execution_count": null,
      "outputs": [
        {
          "output_type": "execute_result",
          "data": {
            "text/plain": [
              "<tf.Tensor: shape=(1, 1, 4), dtype=int32, numpy=array([[[2, 4, 6, 8]]], dtype=int32)>"
            ]
          },
          "metadata": {},
          "execution_count": 43
        }
      ]
    },
    {
      "cell_type": "code",
      "source": [
        "[\n",
        "    2, 4, 6, 8\n",
        "]\n",
        "\n",
        "[[\n",
        "    3, 5, 7, 9\n",
        "],\n",
        "\n",
        " [\n",
        "     4, 6, 8, 10\n",
        " ]]\n",
        "\n",
        "[[[\n",
        "     3, 6, 9\n",
        " ],\n",
        "  [2, 6, 9]\n",
        "  ],\n",
        "  [\n",
        "      [4, 5, 6, 7],\n",
        "      [3, 6, 9, 4\n",
        "       ]]]"
      ],
      "metadata": {
        "id": "VVNmQ-qzJsec"
      },
      "execution_count": null,
      "outputs": []
    },
    {
      "cell_type": "markdown",
      "source": [
        "📓 **Note**\n",
        "\n",
        "\n",
        "If we need, single dimensional array, then we will use single opening and closing square brackers, and value will go here.\n",
        "\n",
        "If we need, 2 dimensional array, then we will use two opening and closing square brackers, and value will go inside the second square brackers only.\n",
        "\n",
        "In the same way, use three opening and closing square brackers for a 3 dimensional array, and value will go inside the third square brackers only.\n",
        "\n",
        "So, for 4 dimensional array, use four opening and closing square brackers for a 3 dimensional array, and value will go inside the 4th square brackers only."
      ],
      "metadata": {
        "id": "pclfSJdbLtRU"
      }
    },
    {
      "cell_type": "code",
      "source": [
        "tensor"
      ],
      "metadata": {
        "colab": {
          "base_uri": "https://localhost:8080/"
        },
        "id": "550hKyiZMtt-",
        "outputId": "42ccdc84-7476-44d6-8b44-f976969e9bf5"
      },
      "execution_count": null,
      "outputs": [
        {
          "output_type": "execute_result",
          "data": {
            "text/plain": [
              "<tf.Tensor: shape=(1, 1, 4), dtype=int32, numpy=array([[[2, 4, 6, 8]]], dtype=int32)>"
            ]
          },
          "metadata": {},
          "execution_count": 45
        }
      ]
    },
    {
      "cell_type": "code",
      "source": [
        "tensor = tf.constant([\n",
        "\n",
        "     [\n",
        "         [\n",
        "           3, 6, 9\n",
        "         ],\n",
        "\n",
        "         [\n",
        "           3, 6, 9\n",
        "         ]\n",
        "    ],\n",
        "     [\n",
        "         [\n",
        "          3, 6, 9\n",
        "        ],\n",
        "\n",
        "        [\n",
        "          3, 6, 9\n",
        "        ],\n",
        "      ],\n",
        "     [\n",
        "         [\n",
        "          3, 6, 9\n",
        "          ],\n",
        "\n",
        "         [\n",
        "          3, 6, 9\n",
        "          ]\n",
        "         ],\n",
        "\n",
        "     ])"
      ],
      "metadata": {
        "id": "TO20KoiQMyP0"
      },
      "execution_count": null,
      "outputs": []
    },
    {
      "cell_type": "code",
      "source": [
        "tensor"
      ],
      "metadata": {
        "colab": {
          "base_uri": "https://localhost:8080/"
        },
        "id": "c5pZvlC0Nnzw",
        "outputId": "bc0ba590-e562-4fad-8d9e-86227f797d7c"
      },
      "execution_count": null,
      "outputs": [
        {
          "output_type": "execute_result",
          "data": {
            "text/plain": [
              "<tf.Tensor: shape=(3, 2, 3), dtype=int32, numpy=\n",
              "array([[[3, 6, 9],\n",
              "        [3, 6, 9]],\n",
              "\n",
              "       [[3, 6, 9],\n",
              "        [3, 6, 9]],\n",
              "\n",
              "       [[3, 6, 9],\n",
              "        [3, 6, 9]]], dtype=int32)>"
            ]
          },
          "metadata": {},
          "execution_count": 47
        }
      ]
    },
    {
      "cell_type": "code",
      "source": [
        "3 * 2 * 3"
      ],
      "metadata": {
        "colab": {
          "base_uri": "https://localhost:8080/"
        },
        "id": "m_3MXiWQNpkv",
        "outputId": "b709e96d-eb00-4de7-8dfa-697147e09a87"
      },
      "execution_count": null,
      "outputs": [
        {
          "output_type": "execute_result",
          "data": {
            "text/plain": [
              "18"
            ]
          },
          "metadata": {},
          "execution_count": 48
        }
      ]
    },
    {
      "cell_type": "code",
      "source": [
        "tf.size(tensor)"
      ],
      "metadata": {
        "colab": {
          "base_uri": "https://localhost:8080/"
        },
        "id": "0IHNmHmLN8Mx",
        "outputId": "88a32a18-aa46-4c32-f64d-1d6a36f41905"
      },
      "execution_count": null,
      "outputs": [
        {
          "output_type": "execute_result",
          "data": {
            "text/plain": [
              "<tf.Tensor: shape=(), dtype=int32, numpy=18>"
            ]
          },
          "metadata": {},
          "execution_count": 49
        }
      ]
    },
    {
      "cell_type": "code",
      "source": [
        "tensor = tf.constant([\n",
        "\n",
        "     [\n",
        "         [\n",
        "           3, 6, 9, 10\n",
        "         ],\n",
        "\n",
        "         [\n",
        "           3, 6, 9, 12\n",
        "         ]\n",
        "    ],\n",
        "     [\n",
        "         [\n",
        "          3, 6, 9, 10\n",
        "        ],\n",
        "\n",
        "        [\n",
        "          3, 6, 9, 10\n",
        "        ],\n",
        "      ],\n",
        "     [\n",
        "         [\n",
        "          3, 6, 9, 11\n",
        "          ],\n",
        "\n",
        "         [\n",
        "          3, 6, 9, 12\n",
        "          ]\n",
        "         ],\n",
        "\n",
        "     ])"
      ],
      "metadata": {
        "id": "L6phQblJN_Gi"
      },
      "execution_count": null,
      "outputs": []
    },
    {
      "cell_type": "code",
      "source": [],
      "metadata": {
        "id": "zD1HyrYVOKiW"
      },
      "execution_count": null,
      "outputs": []
    }
  ]
}