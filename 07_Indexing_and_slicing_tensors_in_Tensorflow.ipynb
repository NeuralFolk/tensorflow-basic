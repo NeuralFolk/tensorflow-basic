{
  "nbformat": 4,
  "nbformat_minor": 0,
  "metadata": {
    "colab": {
      "provenance": [],
      "authorship_tag": "ABX9TyOt/+BklwrkFsMuP55QeyvL",
      "include_colab_link": true
    },
    "kernelspec": {
      "name": "python3",
      "display_name": "Python 3"
    },
    "language_info": {
      "name": "python"
    }
  },
  "cells": [
    {
      "cell_type": "markdown",
      "metadata": {
        "id": "view-in-github",
        "colab_type": "text"
      },
      "source": [
        "<a href=\"https://colab.research.google.com/github/NeuralFolk/tensorflow-basic/blob/main/07_Indexing_and_slicing_tensors_in_Tensorflow.ipynb\" target=\"_parent\"><img src=\"https://colab.research.google.com/assets/colab-badge.svg\" alt=\"Open In Colab\"/></a>"
      ]
    },
    {
      "cell_type": "code",
      "execution_count": null,
      "metadata": {
        "id": "uoM88toQCTw1"
      },
      "outputs": [],
      "source": [
        "import tensorflow as tf\n",
        "\n",
        "tensor_2d = tf.random.uniform((6, 3), 15, 25)"
      ]
    },
    {
      "cell_type": "code",
      "source": [
        "tensor_2d"
      ],
      "metadata": {
        "colab": {
          "base_uri": "https://localhost:8080/"
        },
        "id": "y0UAijaTYcXC",
        "outputId": "c0591c5e-4d03-4ed9-bd75-61c858c63608"
      },
      "execution_count": null,
      "outputs": [
        {
          "output_type": "execute_result",
          "data": {
            "text/plain": [
              "<tf.Tensor: shape=(6, 3), dtype=float32, numpy=\n",
              "array([[23.087559, 23.870079, 21.774235],\n",
              "       [21.752235, 22.436668, 23.43544 ],\n",
              "       [16.407106, 18.084555, 16.68509 ],\n",
              "       [18.602074, 24.78664 , 16.957996],\n",
              "       [16.09517 , 15.138202, 22.29373 ],\n",
              "       [19.782791, 17.94619 , 17.712751]], dtype=float32)>"
            ]
          },
          "metadata": {},
          "execution_count": 71
        }
      ]
    },
    {
      "cell_type": "code",
      "source": [
        "tensor_2d.ndim"
      ],
      "metadata": {
        "colab": {
          "base_uri": "https://localhost:8080/"
        },
        "id": "b1-cRNfcYh2f",
        "outputId": "2826ddd3-0226-4c07-9b51-84ae93d61a06"
      },
      "execution_count": null,
      "outputs": [
        {
          "output_type": "execute_result",
          "data": {
            "text/plain": [
              "2"
            ]
          },
          "metadata": {},
          "execution_count": 58
        }
      ]
    },
    {
      "cell_type": "code",
      "source": [
        "tensor_2d[0:, 0]"
      ],
      "metadata": {
        "colab": {
          "base_uri": "https://localhost:8080/"
        },
        "id": "9z6FUXsOYxru",
        "outputId": "b6239e7f-3007-4e60-b4f7-d6d347c85d11"
      },
      "execution_count": null,
      "outputs": [
        {
          "output_type": "execute_result",
          "data": {
            "text/plain": [
              "<tf.Tensor: shape=(6,), dtype=float32, numpy=\n",
              "array([23.087559, 21.752235, 16.407106, 18.602074, 16.09517 , 19.782791],\n",
              "      dtype=float32)>"
            ]
          },
          "metadata": {},
          "execution_count": 72
        }
      ]
    },
    {
      "cell_type": "code",
      "source": [
        "tensor = tf.random.uniform((2, 3, 4), 50, 99)"
      ],
      "metadata": {
        "id": "wx2oO3IfZA2F"
      },
      "execution_count": null,
      "outputs": []
    },
    {
      "cell_type": "code",
      "source": [
        "tensor"
      ],
      "metadata": {
        "colab": {
          "base_uri": "https://localhost:8080/"
        },
        "id": "KmaK-atkamlH",
        "outputId": "15af4685-9aef-4a0d-d6bc-00deb3e803d9"
      },
      "execution_count": null,
      "outputs": [
        {
          "output_type": "execute_result",
          "data": {
            "text/plain": [
              "<tf.Tensor: shape=(2, 3, 4), dtype=float32, numpy=\n",
              "array([[[63.06982 , 81.024895, 62.14735 , 50.128963],\n",
              "        [62.396072, 83.02233 , 78.856155, 74.0378  ],\n",
              "        [53.580597, 59.78082 , 58.130665, 98.80684 ]],\n",
              "\n",
              "       [[67.83786 , 82.73725 , 82.00577 , 93.41356 ],\n",
              "        [89.119736, 59.929363, 97.7941  , 69.47641 ],\n",
              "        [73.58825 , 85.34027 , 71.63492 , 50.83861 ]]], dtype=float32)>"
            ]
          },
          "metadata": {},
          "execution_count": 74
        }
      ]
    },
    {
      "cell_type": "code",
      "source": [
        "tensor.ndim"
      ],
      "metadata": {
        "colab": {
          "base_uri": "https://localhost:8080/"
        },
        "id": "YQuUgPYLaoBf",
        "outputId": "9ddd0224-32e2-42e4-a9b8-ddbd6958906f"
      },
      "execution_count": null,
      "outputs": [
        {
          "output_type": "execute_result",
          "data": {
            "text/plain": [
              "3"
            ]
          },
          "metadata": {},
          "execution_count": 75
        }
      ]
    },
    {
      "cell_type": "code",
      "source": [
        "tensor[0:, 0:, 1:3]"
      ],
      "metadata": {
        "colab": {
          "base_uri": "https://localhost:8080/"
        },
        "id": "xLE1ICYLatzx",
        "outputId": "6228e391-ae0d-4777-b23f-dca83ddf1d83"
      },
      "execution_count": null,
      "outputs": [
        {
          "output_type": "execute_result",
          "data": {
            "text/plain": [
              "<tf.Tensor: shape=(2, 3, 2), dtype=float32, numpy=\n",
              "array([[[81.024895, 62.14735 ],\n",
              "        [83.02233 , 78.856155],\n",
              "        [59.78082 , 58.130665]],\n",
              "\n",
              "       [[82.73725 , 82.00577 ],\n",
              "        [59.929363, 97.7941  ],\n",
              "        [85.34027 , 71.63492 ]]], dtype=float32)>"
            ]
          },
          "metadata": {},
          "execution_count": 85
        }
      ]
    },
    {
      "cell_type": "code",
      "source": [],
      "metadata": {
        "id": "wmyb7ynZaxcg"
      },
      "execution_count": null,
      "outputs": []
    }
  ]
}