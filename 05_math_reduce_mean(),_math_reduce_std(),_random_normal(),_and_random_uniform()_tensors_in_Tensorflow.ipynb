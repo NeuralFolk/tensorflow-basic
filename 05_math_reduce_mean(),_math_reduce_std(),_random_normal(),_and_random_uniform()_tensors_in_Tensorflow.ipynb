{
  "nbformat": 4,
  "nbformat_minor": 0,
  "metadata": {
    "colab": {
      "provenance": [],
      "authorship_tag": "ABX9TyPWivYo8tD0e5rhGeZnhY5G",
      "include_colab_link": true
    },
    "kernelspec": {
      "name": "python3",
      "display_name": "Python 3"
    },
    "language_info": {
      "name": "python"
    }
  },
  "cells": [
    {
      "cell_type": "markdown",
      "metadata": {
        "id": "view-in-github",
        "colab_type": "text"
      },
      "source": [
        "<a href=\"https://colab.research.google.com/github/NeuralFolk/tensorflow-basic/blob/main/05_math_reduce_mean()%2C_math_reduce_std()%2C_random_normal()%2C_and_random_uniform()_tensors_in_Tensorflow.ipynb\" target=\"_parent\"><img src=\"https://colab.research.google.com/assets/colab-badge.svg\" alt=\"Open In Colab\"/></a>"
      ]
    },
    {
      "cell_type": "code",
      "execution_count": null,
      "metadata": {
        "id": "Tpkm0hoQL3wD"
      },
      "outputs": [],
      "source": [
        "import tensorflow as tf\n",
        "\n",
        "range_vector = tf.range(11)"
      ]
    },
    {
      "cell_type": "code",
      "source": [
        "range_vector"
      ],
      "metadata": {
        "colab": {
          "base_uri": "https://localhost:8080/"
        },
        "id": "TkIE4lm2bmes",
        "outputId": "e359a1f2-68f9-4828-8daf-db29560f1f9e"
      },
      "execution_count": null,
      "outputs": [
        {
          "output_type": "execute_result",
          "data": {
            "text/plain": [
              "<tf.Tensor: shape=(11,), dtype=int32, numpy=array([ 0,  1,  2,  3,  4,  5,  6,  7,  8,  9, 10], dtype=int32)>"
            ]
          },
          "metadata": {},
          "execution_count": 5
        }
      ]
    },
    {
      "cell_type": "code",
      "source": [
        "sum_of_range_vector = 0\n",
        "counter = 0\n",
        "for index in range_vector:\n",
        "  sum_of_range_vector += range_vector[index]\n",
        "  counter += 1\n",
        "\n",
        "print(sum_of_range_vector)\n",
        "print('counter of elements')\n",
        "print(counter)"
      ],
      "metadata": {
        "colab": {
          "base_uri": "https://localhost:8080/"
        },
        "id": "F3-qwFnHbn55",
        "outputId": "f17d5fb1-4412-4910-9189-adc70df7a59b"
      },
      "execution_count": null,
      "outputs": [
        {
          "output_type": "stream",
          "name": "stdout",
          "text": [
            "tf.Tensor(55, shape=(), dtype=int32)\n",
            "counter of elements\n",
            "11\n"
          ]
        }
      ]
    },
    {
      "cell_type": "code",
      "source": [
        "tf.size(range_vector)"
      ],
      "metadata": {
        "colab": {
          "base_uri": "https://localhost:8080/"
        },
        "id": "bkhUhh_Wb428",
        "outputId": "daf2ac9d-d618-485b-f83e-761500004e37"
      },
      "execution_count": null,
      "outputs": [
        {
          "output_type": "execute_result",
          "data": {
            "text/plain": [
              "<tf.Tensor: shape=(), dtype=int32, numpy=11>"
            ]
          },
          "metadata": {},
          "execution_count": 11
        }
      ]
    },
    {
      "cell_type": "code",
      "source": [
        "mean = sum_of_range_vector / counter"
      ],
      "metadata": {
        "id": "C-O1jdQVc9lb"
      },
      "execution_count": null,
      "outputs": []
    },
    {
      "cell_type": "code",
      "source": [
        "mean"
      ],
      "metadata": {
        "colab": {
          "base_uri": "https://localhost:8080/"
        },
        "id": "-6Mke7Sheyud",
        "outputId": "e3cc7bc0-d24d-4729-d352-c5b4d5ed4b7f"
      },
      "execution_count": null,
      "outputs": [
        {
          "output_type": "execute_result",
          "data": {
            "text/plain": [
              "<tf.Tensor: shape=(), dtype=float64, numpy=5.0>"
            ]
          },
          "metadata": {},
          "execution_count": 15
        }
      ]
    },
    {
      "cell_type": "code",
      "source": [
        "# standard_deviation = sqrt(mean(x)), where x = abs(a - a.mean()) ** 2\n",
        "sum_of_square = 0\n",
        "for index in range_vector:\n",
        "  sum_of_square += tf.math.square(range_vector[index] - tf.cast(mean, tf.int32))\n",
        "  print(sum_of_square)\n",
        "\n",
        "print(sum_of_square)"
      ],
      "metadata": {
        "colab": {
          "base_uri": "https://localhost:8080/"
        },
        "id": "CZtZnAOpdDA9",
        "outputId": "7313612a-0c0e-43a1-f5d9-5f42212064ad"
      },
      "execution_count": null,
      "outputs": [
        {
          "output_type": "stream",
          "name": "stdout",
          "text": [
            "tf.Tensor(25, shape=(), dtype=int32)\n",
            "tf.Tensor(41, shape=(), dtype=int32)\n",
            "tf.Tensor(50, shape=(), dtype=int32)\n",
            "tf.Tensor(54, shape=(), dtype=int32)\n",
            "tf.Tensor(55, shape=(), dtype=int32)\n",
            "tf.Tensor(55, shape=(), dtype=int32)\n",
            "tf.Tensor(56, shape=(), dtype=int32)\n",
            "tf.Tensor(60, shape=(), dtype=int32)\n",
            "tf.Tensor(69, shape=(), dtype=int32)\n",
            "tf.Tensor(85, shape=(), dtype=int32)\n",
            "tf.Tensor(110, shape=(), dtype=int32)\n",
            "tf.Tensor(110, shape=(), dtype=int32)\n"
          ]
        }
      ]
    },
    {
      "cell_type": "code",
      "source": [
        "x = abs(a - a.mean()) ** 2\n",
        "sqrt(mean(x))"
      ],
      "metadata": {
        "id": "4G3XYOXBecg2"
      },
      "execution_count": null,
      "outputs": []
    },
    {
      "cell_type": "code",
      "source": [
        "mean_of_sum_of_square = sum_of_square / 11"
      ],
      "metadata": {
        "id": "8bYLUUgQfUVv"
      },
      "execution_count": null,
      "outputs": []
    },
    {
      "cell_type": "code",
      "source": [
        "tf.math.sqrt(mean_of_sum_of_square)"
      ],
      "metadata": {
        "colab": {
          "base_uri": "https://localhost:8080/"
        },
        "id": "o12U5vZRfbAy",
        "outputId": "fb126ba4-2e5a-4620-f520-74fad755c619"
      },
      "execution_count": null,
      "outputs": [
        {
          "output_type": "execute_result",
          "data": {
            "text/plain": [
              "<tf.Tensor: shape=(), dtype=float64, numpy=3.1622776601683795>"
            ]
          },
          "metadata": {},
          "execution_count": 20
        }
      ]
    },
    {
      "cell_type": "code",
      "source": [
        "tf.math.reduce_mean(range_vector)"
      ],
      "metadata": {
        "colab": {
          "base_uri": "https://localhost:8080/"
        },
        "id": "dAznowlafvEW",
        "outputId": "d5ab72df-698d-4e72-d02d-232d18c9cd0c"
      },
      "execution_count": null,
      "outputs": [
        {
          "output_type": "execute_result",
          "data": {
            "text/plain": [
              "<tf.Tensor: shape=(), dtype=int32, numpy=5>"
            ]
          },
          "metadata": {},
          "execution_count": 21
        }
      ]
    },
    {
      "cell_type": "code",
      "source": [
        "tf.math.reduce_std(tf.cast(range_vector, float))"
      ],
      "metadata": {
        "colab": {
          "base_uri": "https://localhost:8080/"
        },
        "id": "acwo_-H2gBri",
        "outputId": "d9cfa88e-2a97-4e65-eb85-3954993cdd31"
      },
      "execution_count": null,
      "outputs": [
        {
          "output_type": "execute_result",
          "data": {
            "text/plain": [
              "<tf.Tensor: shape=(), dtype=float32, numpy=3.1622777>"
            ]
          },
          "metadata": {},
          "execution_count": 23
        }
      ]
    },
    {
      "cell_type": "code",
      "source": [
        "tf.random"
      ],
      "metadata": {
        "colab": {
          "base_uri": "https://localhost:8080/"
        },
        "id": "6bdjbpiRgKfS",
        "outputId": "7355df55-f5f2-48ce-b7d9-f6f047b4a011"
      },
      "execution_count": null,
      "outputs": [
        {
          "output_type": "execute_result",
          "data": {
            "text/plain": [
              "<module 'tensorflow._api.v2.random' from '/usr/local/lib/python3.10/dist-packages/tensorflow/_api/v2/random/__init__.py'>"
            ]
          },
          "metadata": {},
          "execution_count": 24
        }
      ]
    },
    {
      "cell_type": "code",
      "source": [
        "random_normal_matrix = tf.random.normal((2, 3), 50, 10)"
      ],
      "metadata": {
        "id": "MwliUujagiUh"
      },
      "execution_count": null,
      "outputs": []
    },
    {
      "cell_type": "code",
      "source": [
        "random_normal_matrix"
      ],
      "metadata": {
        "colab": {
          "base_uri": "https://localhost:8080/"
        },
        "id": "XqTmrfU7gz_y",
        "outputId": "1b6ad531-ebfb-449e-ce3b-ed3a06ddcad7"
      },
      "execution_count": null,
      "outputs": [
        {
          "output_type": "execute_result",
          "data": {
            "text/plain": [
              "<tf.Tensor: shape=(2, 3), dtype=float32, numpy=\n",
              "array([[36.279495, 69.860176, 60.13775 ],\n",
              "       [51.99407 , 55.621773, 23.016193]], dtype=float32)>"
            ]
          },
          "metadata": {},
          "execution_count": 30
        }
      ]
    },
    {
      "cell_type": "code",
      "source": [
        "tf.math.reduce_mean(random_normal_matrix)"
      ],
      "metadata": {
        "colab": {
          "base_uri": "https://localhost:8080/"
        },
        "id": "BUU3z7Uqg2HV",
        "outputId": "6f8df612-7add-4b41-e9a6-eaec39e78e49"
      },
      "execution_count": null,
      "outputs": [
        {
          "output_type": "execute_result",
          "data": {
            "text/plain": [
              "<tf.Tensor: shape=(), dtype=float32, numpy=49.48491>"
            ]
          },
          "metadata": {},
          "execution_count": 31
        }
      ]
    },
    {
      "cell_type": "code",
      "source": [
        "tf.math.reduce_std(random_normal_matrix)"
      ],
      "metadata": {
        "colab": {
          "base_uri": "https://localhost:8080/"
        },
        "id": "q3oMpleMg-MJ",
        "outputId": "c76af01f-fc36-4f79-c066-eb75c3ca8573"
      },
      "execution_count": null,
      "outputs": [
        {
          "output_type": "execute_result",
          "data": {
            "text/plain": [
              "<tf.Tensor: shape=(), dtype=float32, numpy=15.532586>"
            ]
          },
          "metadata": {},
          "execution_count": 32
        }
      ]
    },
    {
      "cell_type": "code",
      "source": [
        "random_uniform_tensor = tf.random.uniform((2, 3, 4, 5), 10, 20)"
      ],
      "metadata": {
        "id": "to_UKVMzhE2Z"
      },
      "execution_count": null,
      "outputs": []
    },
    {
      "cell_type": "code",
      "source": [
        "random_uniform_tensor"
      ],
      "metadata": {
        "colab": {
          "base_uri": "https://localhost:8080/"
        },
        "id": "eUKABrBjhcQ8",
        "outputId": "d945e995-7aa0-4a75-d2bd-b85a98a91ce1"
      },
      "execution_count": null,
      "outputs": [
        {
          "output_type": "execute_result",
          "data": {
            "text/plain": [
              "<tf.Tensor: shape=(2, 3, 4, 5), dtype=float32, numpy=\n",
              "array([[[[16.969536 , 18.165861 , 10.641481 , 14.348257 , 11.278659 ],\n",
              "         [12.277781 , 10.69332  , 13.118581 , 10.370537 , 19.392632 ],\n",
              "         [10.676558 , 19.531271 , 18.890564 , 10.140581 , 19.27284  ],\n",
              "         [11.238642 , 17.005697 , 17.013897 , 14.757738 , 10.515704 ]],\n",
              "\n",
              "        [[17.971788 , 11.223578 , 19.150106 , 13.4282255, 12.256289 ],\n",
              "         [19.09839  , 10.4438   , 15.716691 , 16.089222 , 19.836237 ],\n",
              "         [17.919407 , 12.127324 , 15.619887 , 11.331744 , 10.755458 ],\n",
              "         [18.576885 , 12.591103 , 11.303563 , 10.783143 , 15.143189 ]],\n",
              "\n",
              "        [[16.204733 , 15.1052685, 16.4279   , 19.320965 , 13.557304 ],\n",
              "         [13.468697 , 19.582218 , 16.772943 , 12.356273 , 12.545037 ],\n",
              "         [11.846318 , 14.591562 , 15.016985 , 16.117548 , 16.632381 ],\n",
              "         [14.548554 , 10.460394 , 15.978879 , 11.413201 , 11.495831 ]]],\n",
              "\n",
              "\n",
              "       [[[11.883674 , 18.479752 , 14.792775 , 15.446911 , 12.413884 ],\n",
              "         [11.688357 , 16.347677 , 17.143059 , 11.38173  , 13.278066 ],\n",
              "         [11.408252 , 17.558636 , 16.043257 , 13.1733055, 19.855953 ],\n",
              "         [17.424334 , 10.853829 , 19.638866 , 14.844645 , 10.247185 ]],\n",
              "\n",
              "        [[11.41453  , 13.464363 , 17.004086 , 12.125076 , 17.620342 ],\n",
              "         [11.731953 , 14.732303 , 17.253792 , 12.318516 , 16.732162 ],\n",
              "         [16.976511 , 15.407983 , 12.165074 , 17.103127 , 10.763487 ],\n",
              "         [10.653382 , 12.849508 , 14.561834 , 18.620274 , 19.441174 ]],\n",
              "\n",
              "        [[18.234735 , 17.440542 , 10.336878 , 18.050972 , 18.016739 ],\n",
              "         [10.5348625, 15.499252 , 19.83343  , 19.055557 , 12.558081 ],\n",
              "         [14.583854 , 12.219392 , 10.422591 , 11.073284 , 17.180763 ],\n",
              "         [16.169247 , 12.818674 , 18.934338 , 18.493055 , 10.584774 ]]]],\n",
              "      dtype=float32)>"
            ]
          },
          "metadata": {},
          "execution_count": 34
        }
      ]
    },
    {
      "cell_type": "code",
      "source": [
        "tf.math.reduce_mean(random_uniform_tensor)"
      ],
      "metadata": {
        "colab": {
          "base_uri": "https://localhost:8080/"
        },
        "id": "y9B0IcekhfHM",
        "outputId": "3057ee7d-7c04-4d87-97e9-42c64192be83"
      },
      "execution_count": null,
      "outputs": [
        {
          "output_type": "execute_result",
          "data": {
            "text/plain": [
              "<tf.Tensor: shape=(), dtype=float32, numpy=14.6666155>"
            ]
          },
          "metadata": {},
          "execution_count": 35
        }
      ]
    },
    {
      "cell_type": "code",
      "source": [
        "tf.math.reduce_std(random_uniform_tensor)"
      ],
      "metadata": {
        "colab": {
          "base_uri": "https://localhost:8080/"
        },
        "id": "LmCGTSfahoHz",
        "outputId": "e3735b59-6277-4229-d360-3d421825d156"
      },
      "execution_count": null,
      "outputs": [
        {
          "output_type": "execute_result",
          "data": {
            "text/plain": [
              "<tf.Tensor: shape=(), dtype=float32, numpy=3.0715656>"
            ]
          },
          "metadata": {},
          "execution_count": 36
        }
      ]
    },
    {
      "cell_type": "code",
      "source": [],
      "metadata": {
        "id": "mbyFcNEnhuRt"
      },
      "execution_count": null,
      "outputs": []
    }
  ]
}