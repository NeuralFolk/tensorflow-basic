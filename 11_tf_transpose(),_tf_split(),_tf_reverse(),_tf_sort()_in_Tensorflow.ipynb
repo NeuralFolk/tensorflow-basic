{
  "nbformat": 4,
  "nbformat_minor": 0,
  "metadata": {
    "colab": {
      "provenance": [],
      "authorship_tag": "ABX9TyPHd2LWKQzgTcYGA7SsmWH1",
      "include_colab_link": true
    },
    "kernelspec": {
      "name": "python3",
      "display_name": "Python 3"
    },
    "language_info": {
      "name": "python"
    }
  },
  "cells": [
    {
      "cell_type": "markdown",
      "metadata": {
        "id": "view-in-github",
        "colab_type": "text"
      },
      "source": [
        "<a href=\"https://colab.research.google.com/github/NeuralFolk/tensorflow-basic/blob/main/11_tf_transpose()%2C_tf_split()%2C_tf_reverse()%2C_tf_sort()_in_Tensorflow.ipynb\" target=\"_parent\"><img src=\"https://colab.research.google.com/assets/colab-badge.svg\" alt=\"Open In Colab\"/></a>"
      ]
    },
    {
      "cell_type": "code",
      "execution_count": null,
      "metadata": {
        "id": "8dEGwadU0W7-"
      },
      "outputs": [],
      "source": [
        "import tensorflow as tf\n",
        "\n",
        "vector = tf.range(10)"
      ]
    },
    {
      "cell_type": "code",
      "source": [
        "vector"
      ],
      "metadata": {
        "colab": {
          "base_uri": "https://localhost:8080/"
        },
        "id": "jRUx8IZrIRl1",
        "outputId": "ac6a0cd4-f097-4fee-b6d7-e310563c7864"
      },
      "execution_count": null,
      "outputs": [
        {
          "output_type": "execute_result",
          "data": {
            "text/plain": [
              "<tf.Tensor: shape=(10,), dtype=int32, numpy=array([0, 1, 2, 3, 4, 5, 6, 7, 8, 9], dtype=int32)>"
            ]
          },
          "metadata": {},
          "execution_count": 2
        }
      ]
    },
    {
      "cell_type": "code",
      "source": [
        "tf.transpose(vector)"
      ],
      "metadata": {
        "colab": {
          "base_uri": "https://localhost:8080/"
        },
        "id": "stwPkCPXIVvy",
        "outputId": "27438552-451c-4b33-c4d2-722c4f2fef80"
      },
      "execution_count": null,
      "outputs": [
        {
          "output_type": "execute_result",
          "data": {
            "text/plain": [
              "<tf.Tensor: shape=(10,), dtype=int32, numpy=array([0, 1, 2, 3, 4, 5, 6, 7, 8, 9], dtype=int32)>"
            ]
          },
          "metadata": {},
          "execution_count": 3
        }
      ]
    },
    {
      "cell_type": "code",
      "source": [
        "matrix = tf.random.normal((2, 3), 50, 10)"
      ],
      "metadata": {
        "id": "3sQ6e90BIZso"
      },
      "execution_count": null,
      "outputs": []
    },
    {
      "cell_type": "code",
      "source": [
        "matrix"
      ],
      "metadata": {
        "colab": {
          "base_uri": "https://localhost:8080/"
        },
        "id": "u-DlFb8eIs7q",
        "outputId": "3e8a1cc3-9cba-44ab-9416-28cf0be3068a"
      },
      "execution_count": null,
      "outputs": [
        {
          "output_type": "execute_result",
          "data": {
            "text/plain": [
              "<tf.Tensor: shape=(2, 3), dtype=float32, numpy=\n",
              "array([[53.66564 , 55.906303, 44.84543 ],\n",
              "       [68.466484, 50.884724, 60.544243]], dtype=float32)>"
            ]
          },
          "metadata": {},
          "execution_count": 5
        }
      ]
    },
    {
      "cell_type": "code",
      "source": [
        "tf.transpose(matrix)"
      ],
      "metadata": {
        "colab": {
          "base_uri": "https://localhost:8080/"
        },
        "id": "ShaFWCp5IuNr",
        "outputId": "691c1923-48ea-4057-fb0d-e59b97c7d075"
      },
      "execution_count": null,
      "outputs": [
        {
          "output_type": "execute_result",
          "data": {
            "text/plain": [
              "<tf.Tensor: shape=(3, 2), dtype=float32, numpy=\n",
              "array([[53.66564 , 68.466484],\n",
              "       [55.906303, 50.884724],\n",
              "       [44.84543 , 60.544243]], dtype=float32)>"
            ]
          },
          "metadata": {},
          "execution_count": 6
        }
      ]
    },
    {
      "cell_type": "code",
      "source": [
        "x = tf.constant([[2, 3], [4, 5], [7, 8]])"
      ],
      "metadata": {
        "id": "vqTGUqohI1MK"
      },
      "execution_count": null,
      "outputs": []
    },
    {
      "cell_type": "code",
      "source": [
        "x"
      ],
      "metadata": {
        "colab": {
          "base_uri": "https://localhost:8080/"
        },
        "id": "PkWRWoBvJXTU",
        "outputId": "18cb13d0-896d-4c19-bcb8-401bf1619b65"
      },
      "execution_count": null,
      "outputs": [
        {
          "output_type": "execute_result",
          "data": {
            "text/plain": [
              "<tf.Tensor: shape=(3, 2), dtype=int32, numpy=\n",
              "array([[2, 3],\n",
              "       [4, 5],\n",
              "       [7, 8]], dtype=int32)>"
            ]
          },
          "metadata": {},
          "execution_count": 11
        }
      ]
    },
    {
      "cell_type": "code",
      "source": [
        "tf.transpose(x)"
      ],
      "metadata": {
        "colab": {
          "base_uri": "https://localhost:8080/"
        },
        "id": "32jJnAI9JX4k",
        "outputId": "f9c7ff7c-8dec-4c2c-9673-c112470d5f0e"
      },
      "execution_count": null,
      "outputs": [
        {
          "output_type": "execute_result",
          "data": {
            "text/plain": [
              "<tf.Tensor: shape=(2, 3), dtype=int32, numpy=\n",
              "array([[2, 4, 7],\n",
              "       [3, 5, 8]], dtype=int32)>"
            ]
          },
          "metadata": {},
          "execution_count": 12
        }
      ]
    },
    {
      "cell_type": "code",
      "source": [
        "vector = tf.range(20)"
      ],
      "metadata": {
        "id": "gm4Ftx97Jamu"
      },
      "execution_count": null,
      "outputs": []
    },
    {
      "cell_type": "code",
      "source": [
        "vector"
      ],
      "metadata": {
        "colab": {
          "base_uri": "https://localhost:8080/"
        },
        "id": "GlSoZ56mKPSH",
        "outputId": "a82fb5fd-82af-4773-bce0-c844aeb4eab9"
      },
      "execution_count": null,
      "outputs": [
        {
          "output_type": "execute_result",
          "data": {
            "text/plain": [
              "<tf.Tensor: shape=(20,), dtype=int32, numpy=\n",
              "array([ 0,  1,  2,  3,  4,  5,  6,  7,  8,  9, 10, 11, 12, 13, 14, 15, 16,\n",
              "       17, 18, 19], dtype=int32)>"
            ]
          },
          "metadata": {},
          "execution_count": 18
        }
      ]
    },
    {
      "cell_type": "code",
      "source": [
        "tf.split(vector, num_or_size_splits = 4, axis = 0)"
      ],
      "metadata": {
        "colab": {
          "base_uri": "https://localhost:8080/"
        },
        "id": "ZD1PP139KQ4p",
        "outputId": "18cf3f70-acb4-4f02-8b84-3c3bacd4535a"
      },
      "execution_count": null,
      "outputs": [
        {
          "output_type": "execute_result",
          "data": {
            "text/plain": [
              "[<tf.Tensor: shape=(5,), dtype=int32, numpy=array([0, 1, 2, 3, 4], dtype=int32)>,\n",
              " <tf.Tensor: shape=(5,), dtype=int32, numpy=array([5, 6, 7, 8, 9], dtype=int32)>,\n",
              " <tf.Tensor: shape=(5,), dtype=int32, numpy=array([10, 11, 12, 13, 14], dtype=int32)>,\n",
              " <tf.Tensor: shape=(5,), dtype=int32, numpy=array([15, 16, 17, 18, 19], dtype=int32)>]"
            ]
          },
          "metadata": {},
          "execution_count": 24
        }
      ]
    },
    {
      "cell_type": "code",
      "source": [
        "matrix = tf.random.normal((2, 3), 10, 2)"
      ],
      "metadata": {
        "id": "iNQEGZ3KKzIH"
      },
      "execution_count": null,
      "outputs": []
    },
    {
      "cell_type": "code",
      "source": [
        "matrix"
      ],
      "metadata": {
        "colab": {
          "base_uri": "https://localhost:8080/"
        },
        "id": "X8YHaUDLLUYY",
        "outputId": "eefd66cb-4b99-4354-da5e-3a1ec253ba10"
      },
      "execution_count": null,
      "outputs": [
        {
          "output_type": "execute_result",
          "data": {
            "text/plain": [
              "<tf.Tensor: shape=(2, 3), dtype=float32, numpy=\n",
              "array([[10.94007 ,  9.253694, 10.06596 ],\n",
              "       [ 9.669955, 10.061029, 12.076046]], dtype=float32)>"
            ]
          },
          "metadata": {},
          "execution_count": 28
        }
      ]
    },
    {
      "cell_type": "code",
      "source": [
        "tf.split(matrix, num_or_size_splits = 2, axis = 0)"
      ],
      "metadata": {
        "colab": {
          "base_uri": "https://localhost:8080/"
        },
        "id": "bfrhgG3wLebF",
        "outputId": "369d8fa9-ad3b-432c-bbae-d1cfa02bc4b3"
      },
      "execution_count": null,
      "outputs": [
        {
          "output_type": "execute_result",
          "data": {
            "text/plain": [
              "[<tf.Tensor: shape=(1, 3), dtype=float32, numpy=array([[10.94007 ,  9.253694, 10.06596 ]], dtype=float32)>,\n",
              " <tf.Tensor: shape=(1, 3), dtype=float32, numpy=array([[ 9.669955, 10.061029, 12.076046]], dtype=float32)>]"
            ]
          },
          "metadata": {},
          "execution_count": 29
        }
      ]
    },
    {
      "cell_type": "code",
      "source": [
        "tf.split(matrix, num_or_size_splits = 3, axis = 1)"
      ],
      "metadata": {
        "colab": {
          "base_uri": "https://localhost:8080/"
        },
        "id": "Q7IZkqHhMgNB",
        "outputId": "a87f8337-2440-45b5-d15c-682cd6edb4c3"
      },
      "execution_count": null,
      "outputs": [
        {
          "output_type": "execute_result",
          "data": {
            "text/plain": [
              "[<tf.Tensor: shape=(2, 1), dtype=float32, numpy=\n",
              " array([[10.94007 ],\n",
              "        [ 9.669955]], dtype=float32)>,\n",
              " <tf.Tensor: shape=(2, 1), dtype=float32, numpy=\n",
              " array([[ 9.253694],\n",
              "        [10.061029]], dtype=float32)>,\n",
              " <tf.Tensor: shape=(2, 1), dtype=float32, numpy=\n",
              " array([[10.06596 ],\n",
              "        [12.076046]], dtype=float32)>]"
            ]
          },
          "metadata": {},
          "execution_count": 31
        }
      ]
    },
    {
      "cell_type": "code",
      "source": [
        "matrix = tf.random.normal((12, 12), 10, 2)"
      ],
      "metadata": {
        "id": "SbotBeIBMwHg"
      },
      "execution_count": null,
      "outputs": []
    },
    {
      "cell_type": "code",
      "source": [
        "matrix"
      ],
      "metadata": {
        "colab": {
          "base_uri": "https://localhost:8080/"
        },
        "id": "1jVGX-HINmPU",
        "outputId": "8f540e64-ce89-426f-b91e-a656af3dc8ea"
      },
      "execution_count": null,
      "outputs": [
        {
          "output_type": "execute_result",
          "data": {
            "text/plain": [
              "<tf.Tensor: shape=(12, 12), dtype=float32, numpy=\n",
              "array([[ 9.212806 ,  9.600187 , 11.792709 ,  9.794576 ,  9.170592 ,\n",
              "         9.523257 , 10.748522 ,  9.652939 , 10.772305 , 10.019805 ,\n",
              "         7.3946238,  8.4904175],\n",
              "       [15.491488 , 12.470431 ,  7.239174 ,  8.994104 ,  6.954004 ,\n",
              "        13.403208 , 10.333908 , 14.571619 , 13.299152 ,  6.4089494,\n",
              "         7.6392527, 10.692793 ],\n",
              "       [11.892656 ,  9.007846 ,  9.771195 ,  8.6016655,  9.376345 ,\n",
              "         9.05586  , 12.72337  ,  8.993532 , 11.799126 , 10.849277 ,\n",
              "         8.089203 , 11.451077 ],\n",
              "       [10.079139 ,  7.960721 , 14.206173 ,  7.1039524, 11.663934 ,\n",
              "         9.948452 ,  8.003453 , 11.644338 ,  7.1127243, 11.259592 ,\n",
              "        13.680862 ,  8.586615 ],\n",
              "       [11.90156  , 14.077655 , 12.853793 ,  7.6944637, 10.292928 ,\n",
              "        12.881308 ,  8.152776 ,  8.664157 ,  8.250501 , 11.565506 ,\n",
              "        10.816373 ,  9.132544 ],\n",
              "       [12.335098 , 10.643862 ,  9.285866 ,  7.0153556, 12.061892 ,\n",
              "        15.296506 , 11.677439 , 10.491055 ,  9.337457 ,  7.5398045,\n",
              "        11.054065 ,  8.392071 ],\n",
              "       [10.925237 ,  8.660576 , 10.659129 ,  9.672561 , 10.033766 ,\n",
              "        11.567951 , 11.11508  , 11.34598  ,  8.487374 ,  6.6830435,\n",
              "         8.975181 , 10.1846   ],\n",
              "       [11.960691 ,  8.481299 , 10.523028 ,  7.909769 ,  9.052598 ,\n",
              "        10.681475 ,  9.8749   ,  8.81175  ,  7.7015734, 13.246904 ,\n",
              "         9.117044 ,  7.7367544],\n",
              "       [ 6.301185 ,  9.969316 ,  9.598065 ,  9.252112 , 10.838448 ,\n",
              "        11.366354 ,  8.182913 , 11.777401 , 11.356884 , 10.874191 ,\n",
              "         9.428225 , 10.170979 ],\n",
              "       [10.504951 ,  7.9952774, 12.679663 , 10.950141 ,  9.856761 ,\n",
              "        11.295773 , 12.598671 , 11.179752 ,  8.468831 ,  8.651976 ,\n",
              "        11.53304  ,  8.455372 ],\n",
              "       [10.578574 ,  9.655386 , 10.235484 ,  7.9401875, 11.358544 ,\n",
              "        10.728825 , 11.150025 ,  9.447647 , 10.325672 , 13.435691 ,\n",
              "        11.670495 , 13.055748 ],\n",
              "       [ 6.6366014,  9.8200865,  9.121801 , 10.306417 , 10.520785 ,\n",
              "        11.249539 ,  7.9765143,  8.150993 , 11.100269 ,  8.813387 ,\n",
              "        10.120866 ,  8.024073 ]], dtype=float32)>"
            ]
          },
          "metadata": {},
          "execution_count": 41
        }
      ]
    },
    {
      "cell_type": "code",
      "source": [
        "tf.split(matrix, num_or_size_splits = 2, axis = 0)"
      ],
      "metadata": {
        "colab": {
          "base_uri": "https://localhost:8080/"
        },
        "id": "FNqKCrGQNRXU",
        "outputId": "e55f4c78-5ba6-425e-984b-605656595f4f"
      },
      "execution_count": null,
      "outputs": [
        {
          "output_type": "execute_result",
          "data": {
            "text/plain": [
              "[<tf.Tensor: shape=(6, 12), dtype=float32, numpy=\n",
              " array([[ 9.212806 ,  9.600187 , 11.792709 ,  9.794576 ,  9.170592 ,\n",
              "          9.523257 , 10.748522 ,  9.652939 , 10.772305 , 10.019805 ,\n",
              "          7.3946238,  8.4904175],\n",
              "        [15.491488 , 12.470431 ,  7.239174 ,  8.994104 ,  6.954004 ,\n",
              "         13.403208 , 10.333908 , 14.571619 , 13.299152 ,  6.4089494,\n",
              "          7.6392527, 10.692793 ],\n",
              "        [11.892656 ,  9.007846 ,  9.771195 ,  8.6016655,  9.376345 ,\n",
              "          9.05586  , 12.72337  ,  8.993532 , 11.799126 , 10.849277 ,\n",
              "          8.089203 , 11.451077 ],\n",
              "        [10.079139 ,  7.960721 , 14.206173 ,  7.1039524, 11.663934 ,\n",
              "          9.948452 ,  8.003453 , 11.644338 ,  7.1127243, 11.259592 ,\n",
              "         13.680862 ,  8.586615 ],\n",
              "        [11.90156  , 14.077655 , 12.853793 ,  7.6944637, 10.292928 ,\n",
              "         12.881308 ,  8.152776 ,  8.664157 ,  8.250501 , 11.565506 ,\n",
              "         10.816373 ,  9.132544 ],\n",
              "        [12.335098 , 10.643862 ,  9.285866 ,  7.0153556, 12.061892 ,\n",
              "         15.296506 , 11.677439 , 10.491055 ,  9.337457 ,  7.5398045,\n",
              "         11.054065 ,  8.392071 ]], dtype=float32)>,\n",
              " <tf.Tensor: shape=(6, 12), dtype=float32, numpy=\n",
              " array([[10.925237 ,  8.660576 , 10.659129 ,  9.672561 , 10.033766 ,\n",
              "         11.567951 , 11.11508  , 11.34598  ,  8.487374 ,  6.6830435,\n",
              "          8.975181 , 10.1846   ],\n",
              "        [11.960691 ,  8.481299 , 10.523028 ,  7.909769 ,  9.052598 ,\n",
              "         10.681475 ,  9.8749   ,  8.81175  ,  7.7015734, 13.246904 ,\n",
              "          9.117044 ,  7.7367544],\n",
              "        [ 6.301185 ,  9.969316 ,  9.598065 ,  9.252112 , 10.838448 ,\n",
              "         11.366354 ,  8.182913 , 11.777401 , 11.356884 , 10.874191 ,\n",
              "          9.428225 , 10.170979 ],\n",
              "        [10.504951 ,  7.9952774, 12.679663 , 10.950141 ,  9.856761 ,\n",
              "         11.295773 , 12.598671 , 11.179752 ,  8.468831 ,  8.651976 ,\n",
              "         11.53304  ,  8.455372 ],\n",
              "        [10.578574 ,  9.655386 , 10.235484 ,  7.9401875, 11.358544 ,\n",
              "         10.728825 , 11.150025 ,  9.447647 , 10.325672 , 13.435691 ,\n",
              "         11.670495 , 13.055748 ],\n",
              "        [ 6.6366014,  9.8200865,  9.121801 , 10.306417 , 10.520785 ,\n",
              "         11.249539 ,  7.9765143,  8.150993 , 11.100269 ,  8.813387 ,\n",
              "         10.120866 ,  8.024073 ]], dtype=float32)>]"
            ]
          },
          "metadata": {},
          "execution_count": 49
        }
      ]
    },
    {
      "cell_type": "code",
      "source": [
        "vector = tf.range(10)"
      ],
      "metadata": {
        "id": "nWp4Yoa6Nv9Q"
      },
      "execution_count": null,
      "outputs": []
    },
    {
      "cell_type": "code",
      "source": [
        "vector"
      ],
      "metadata": {
        "colab": {
          "base_uri": "https://localhost:8080/"
        },
        "id": "3MK_YmP4OcdY",
        "outputId": "95caf4ad-17a9-468d-db9e-4e4039cf4532"
      },
      "execution_count": null,
      "outputs": [
        {
          "output_type": "execute_result",
          "data": {
            "text/plain": [
              "<tf.Tensor: shape=(10,), dtype=int32, numpy=array([0, 1, 2, 3, 4, 5, 6, 7, 8, 9], dtype=int32)>"
            ]
          },
          "metadata": {},
          "execution_count": 51
        }
      ]
    },
    {
      "cell_type": "code",
      "source": [
        "tf.reverse(vector, axis = [0])"
      ],
      "metadata": {
        "colab": {
          "base_uri": "https://localhost:8080/"
        },
        "id": "1U7dCbW-Od7h",
        "outputId": "ec4f1742-0bab-43cd-d4c7-23640b898cea"
      },
      "execution_count": null,
      "outputs": [
        {
          "output_type": "execute_result",
          "data": {
            "text/plain": [
              "<tf.Tensor: shape=(10,), dtype=int32, numpy=array([9, 8, 7, 6, 5, 4, 3, 2, 1, 0], dtype=int32)>"
            ]
          },
          "metadata": {},
          "execution_count": 52
        }
      ]
    },
    {
      "cell_type": "code",
      "source": [
        "tf.reverse(vector, axis = [1])"
      ],
      "metadata": {
        "colab": {
          "base_uri": "https://localhost:8080/",
          "height": 311
        },
        "id": "ehtbwQemOo9A",
        "outputId": "9d9525b2-a059-4588-da8b-6a624318080c"
      },
      "execution_count": null,
      "outputs": [
        {
          "output_type": "error",
          "ename": "InvalidArgumentError",
          "evalue": "{{function_node __wrapped__ReverseV2_device_/job:localhost/replica:0/task:0/device:CPU:0}} 'axis'[0] = 1 is out of valid range [0, 0 [Op:ReverseV2]",
          "traceback": [
            "\u001b[0;31m---------------------------------------------------------------------------\u001b[0m",
            "\u001b[0;31mInvalidArgumentError\u001b[0m                      Traceback (most recent call last)",
            "\u001b[0;32m<ipython-input-53-bd6976882e4f>\u001b[0m in \u001b[0;36m<cell line: 1>\u001b[0;34m()\u001b[0m\n\u001b[0;32m----> 1\u001b[0;31m \u001b[0mtf\u001b[0m\u001b[0;34m.\u001b[0m\u001b[0mreverse\u001b[0m\u001b[0;34m(\u001b[0m\u001b[0mvector\u001b[0m\u001b[0;34m,\u001b[0m \u001b[0maxis\u001b[0m \u001b[0;34m=\u001b[0m \u001b[0;34m[\u001b[0m\u001b[0;36m1\u001b[0m\u001b[0;34m]\u001b[0m\u001b[0;34m)\u001b[0m\u001b[0;34m\u001b[0m\u001b[0;34m\u001b[0m\u001b[0m\n\u001b[0m",
            "\u001b[0;32m/usr/local/lib/python3.10/dist-packages/tensorflow/python/ops/gen_array_ops.py\u001b[0m in \u001b[0;36mreverse_v2\u001b[0;34m(tensor, axis, name)\u001b[0m\n\u001b[1;32m   9214\u001b[0m       \u001b[0;32mif\u001b[0m \u001b[0m_result\u001b[0m \u001b[0;32mis\u001b[0m \u001b[0;32mnot\u001b[0m \u001b[0mNotImplemented\u001b[0m\u001b[0;34m:\u001b[0m\u001b[0;34m\u001b[0m\u001b[0;34m\u001b[0m\u001b[0m\n\u001b[1;32m   9215\u001b[0m         \u001b[0;32mreturn\u001b[0m \u001b[0m_result\u001b[0m\u001b[0;34m\u001b[0m\u001b[0;34m\u001b[0m\u001b[0m\n\u001b[0;32m-> 9216\u001b[0;31m       return reverse_v2_eager_fallback(\n\u001b[0m\u001b[1;32m   9217\u001b[0m           tensor, axis, name=name, ctx=_ctx)\n\u001b[1;32m   9218\u001b[0m     \u001b[0;32mexcept\u001b[0m \u001b[0m_core\u001b[0m\u001b[0;34m.\u001b[0m\u001b[0m_SymbolicException\u001b[0m\u001b[0;34m:\u001b[0m\u001b[0;34m\u001b[0m\u001b[0;34m\u001b[0m\u001b[0m\n",
            "\u001b[0;32m/usr/local/lib/python3.10/dist-packages/tensorflow/python/ops/gen_array_ops.py\u001b[0m in \u001b[0;36mreverse_v2_eager_fallback\u001b[0;34m(tensor, axis, name, ctx)\u001b[0m\n\u001b[1;32m   9260\u001b[0m   \u001b[0m_inputs_flat\u001b[0m \u001b[0;34m=\u001b[0m \u001b[0;34m[\u001b[0m\u001b[0mtensor\u001b[0m\u001b[0;34m,\u001b[0m \u001b[0maxis\u001b[0m\u001b[0;34m]\u001b[0m\u001b[0;34m\u001b[0m\u001b[0;34m\u001b[0m\u001b[0m\n\u001b[1;32m   9261\u001b[0m   \u001b[0m_attrs\u001b[0m \u001b[0;34m=\u001b[0m \u001b[0;34m(\u001b[0m\u001b[0;34m\"Tidx\"\u001b[0m\u001b[0;34m,\u001b[0m \u001b[0m_attr_Tidx\u001b[0m\u001b[0;34m,\u001b[0m \u001b[0;34m\"T\"\u001b[0m\u001b[0;34m,\u001b[0m \u001b[0m_attr_T\u001b[0m\u001b[0;34m)\u001b[0m\u001b[0;34m\u001b[0m\u001b[0;34m\u001b[0m\u001b[0m\n\u001b[0;32m-> 9262\u001b[0;31m   _result = _execute.execute(b\"ReverseV2\", 1, inputs=_inputs_flat,\n\u001b[0m\u001b[1;32m   9263\u001b[0m                              attrs=_attrs, ctx=ctx, name=name)\n\u001b[1;32m   9264\u001b[0m   \u001b[0;32mif\u001b[0m \u001b[0m_execute\u001b[0m\u001b[0;34m.\u001b[0m\u001b[0mmust_record_gradient\u001b[0m\u001b[0;34m(\u001b[0m\u001b[0;34m)\u001b[0m\u001b[0;34m:\u001b[0m\u001b[0;34m\u001b[0m\u001b[0;34m\u001b[0m\u001b[0m\n",
            "\u001b[0;32m/usr/local/lib/python3.10/dist-packages/tensorflow/python/eager/execute.py\u001b[0m in \u001b[0;36mquick_execute\u001b[0;34m(op_name, num_outputs, inputs, attrs, ctx, name)\u001b[0m\n\u001b[1;32m     51\u001b[0m   \u001b[0;32mtry\u001b[0m\u001b[0;34m:\u001b[0m\u001b[0;34m\u001b[0m\u001b[0;34m\u001b[0m\u001b[0m\n\u001b[1;32m     52\u001b[0m     \u001b[0mctx\u001b[0m\u001b[0;34m.\u001b[0m\u001b[0mensure_initialized\u001b[0m\u001b[0;34m(\u001b[0m\u001b[0;34m)\u001b[0m\u001b[0;34m\u001b[0m\u001b[0;34m\u001b[0m\u001b[0m\n\u001b[0;32m---> 53\u001b[0;31m     tensors = pywrap_tfe.TFE_Py_Execute(ctx._handle, device_name, op_name,\n\u001b[0m\u001b[1;32m     54\u001b[0m                                         inputs, attrs, num_outputs)\n\u001b[1;32m     55\u001b[0m   \u001b[0;32mexcept\u001b[0m \u001b[0mcore\u001b[0m\u001b[0;34m.\u001b[0m\u001b[0m_NotOkStatusException\u001b[0m \u001b[0;32mas\u001b[0m \u001b[0me\u001b[0m\u001b[0;34m:\u001b[0m\u001b[0;34m\u001b[0m\u001b[0;34m\u001b[0m\u001b[0m\n",
            "\u001b[0;31mInvalidArgumentError\u001b[0m: {{function_node __wrapped__ReverseV2_device_/job:localhost/replica:0/task:0/device:CPU:0}} 'axis'[0] = 1 is out of valid range [0, 0 [Op:ReverseV2]"
          ]
        }
      ]
    },
    {
      "cell_type": "code",
      "source": [
        "matrix = tf.random.normal((3, 3), 20, 3)"
      ],
      "metadata": {
        "id": "khuPC8XAOu1O"
      },
      "execution_count": null,
      "outputs": []
    },
    {
      "cell_type": "code",
      "source": [
        "matrix"
      ],
      "metadata": {
        "colab": {
          "base_uri": "https://localhost:8080/"
        },
        "id": "B3kLIdFgO4vO",
        "outputId": "29590b0a-0b22-4199-fb24-2efcb7e1da92"
      },
      "execution_count": null,
      "outputs": [
        {
          "output_type": "execute_result",
          "data": {
            "text/plain": [
              "<tf.Tensor: shape=(3, 3), dtype=float32, numpy=\n",
              "array([[18.269663, 23.695684, 21.257158],\n",
              "       [22.457224, 18.58074 , 20.9263  ],\n",
              "       [17.129005, 20.717403, 18.289665]], dtype=float32)>"
            ]
          },
          "metadata": {},
          "execution_count": 55
        }
      ]
    },
    {
      "cell_type": "code",
      "source": [
        "tf.reverse(matrix, axis = [0])"
      ],
      "metadata": {
        "colab": {
          "base_uri": "https://localhost:8080/"
        },
        "id": "FVUngR5TO6-M",
        "outputId": "d6e77734-8752-4720-a9b3-04fc94d1055a"
      },
      "execution_count": null,
      "outputs": [
        {
          "output_type": "execute_result",
          "data": {
            "text/plain": [
              "<tf.Tensor: shape=(3, 3), dtype=float32, numpy=\n",
              "array([[17.129005, 20.717403, 18.289665],\n",
              "       [22.457224, 18.58074 , 20.9263  ],\n",
              "       [18.269663, 23.695684, 21.257158]], dtype=float32)>"
            ]
          },
          "metadata": {},
          "execution_count": 56
        }
      ]
    },
    {
      "cell_type": "code",
      "source": [
        "tf.reverse(matrix, axis = [1])"
      ],
      "metadata": {
        "colab": {
          "base_uri": "https://localhost:8080/"
        },
        "id": "lua_sLWjPAQn",
        "outputId": "ac89772b-b845-4625-aba7-fd812ce7e92a"
      },
      "execution_count": null,
      "outputs": [
        {
          "output_type": "execute_result",
          "data": {
            "text/plain": [
              "<tf.Tensor: shape=(3, 3), dtype=float32, numpy=\n",
              "array([[21.257158, 23.695684, 18.269663],\n",
              "       [20.9263  , 18.58074 , 22.457224],\n",
              "       [18.289665, 20.717403, 17.129005]], dtype=float32)>"
            ]
          },
          "metadata": {},
          "execution_count": 57
        }
      ]
    },
    {
      "cell_type": "code",
      "source": [
        "tf.reverse(matrix, axis = [2])"
      ],
      "metadata": {
        "colab": {
          "base_uri": "https://localhost:8080/",
          "height": 311
        },
        "id": "Eh7pwPWSPIVJ",
        "outputId": "7106c263-19a4-4a11-8381-e8fff6d3f7e3"
      },
      "execution_count": null,
      "outputs": [
        {
          "output_type": "error",
          "ename": "InvalidArgumentError",
          "evalue": "{{function_node __wrapped__ReverseV2_device_/job:localhost/replica:0/task:0/device:CPU:0}} 'axis'[0] = 2 is out of valid range [0, 1 [Op:ReverseV2]",
          "traceback": [
            "\u001b[0;31m---------------------------------------------------------------------------\u001b[0m",
            "\u001b[0;31mInvalidArgumentError\u001b[0m                      Traceback (most recent call last)",
            "\u001b[0;32m<ipython-input-58-3f9aafc2d584>\u001b[0m in \u001b[0;36m<cell line: 1>\u001b[0;34m()\u001b[0m\n\u001b[0;32m----> 1\u001b[0;31m \u001b[0mtf\u001b[0m\u001b[0;34m.\u001b[0m\u001b[0mreverse\u001b[0m\u001b[0;34m(\u001b[0m\u001b[0mmatrix\u001b[0m\u001b[0;34m,\u001b[0m \u001b[0maxis\u001b[0m \u001b[0;34m=\u001b[0m \u001b[0;34m[\u001b[0m\u001b[0;36m2\u001b[0m\u001b[0;34m]\u001b[0m\u001b[0;34m)\u001b[0m\u001b[0;34m\u001b[0m\u001b[0;34m\u001b[0m\u001b[0m\n\u001b[0m",
            "\u001b[0;32m/usr/local/lib/python3.10/dist-packages/tensorflow/python/ops/gen_array_ops.py\u001b[0m in \u001b[0;36mreverse_v2\u001b[0;34m(tensor, axis, name)\u001b[0m\n\u001b[1;32m   9214\u001b[0m       \u001b[0;32mif\u001b[0m \u001b[0m_result\u001b[0m \u001b[0;32mis\u001b[0m \u001b[0;32mnot\u001b[0m \u001b[0mNotImplemented\u001b[0m\u001b[0;34m:\u001b[0m\u001b[0;34m\u001b[0m\u001b[0;34m\u001b[0m\u001b[0m\n\u001b[1;32m   9215\u001b[0m         \u001b[0;32mreturn\u001b[0m \u001b[0m_result\u001b[0m\u001b[0;34m\u001b[0m\u001b[0;34m\u001b[0m\u001b[0m\n\u001b[0;32m-> 9216\u001b[0;31m       return reverse_v2_eager_fallback(\n\u001b[0m\u001b[1;32m   9217\u001b[0m           tensor, axis, name=name, ctx=_ctx)\n\u001b[1;32m   9218\u001b[0m     \u001b[0;32mexcept\u001b[0m \u001b[0m_core\u001b[0m\u001b[0;34m.\u001b[0m\u001b[0m_SymbolicException\u001b[0m\u001b[0;34m:\u001b[0m\u001b[0;34m\u001b[0m\u001b[0;34m\u001b[0m\u001b[0m\n",
            "\u001b[0;32m/usr/local/lib/python3.10/dist-packages/tensorflow/python/ops/gen_array_ops.py\u001b[0m in \u001b[0;36mreverse_v2_eager_fallback\u001b[0;34m(tensor, axis, name, ctx)\u001b[0m\n\u001b[1;32m   9260\u001b[0m   \u001b[0m_inputs_flat\u001b[0m \u001b[0;34m=\u001b[0m \u001b[0;34m[\u001b[0m\u001b[0mtensor\u001b[0m\u001b[0;34m,\u001b[0m \u001b[0maxis\u001b[0m\u001b[0;34m]\u001b[0m\u001b[0;34m\u001b[0m\u001b[0;34m\u001b[0m\u001b[0m\n\u001b[1;32m   9261\u001b[0m   \u001b[0m_attrs\u001b[0m \u001b[0;34m=\u001b[0m \u001b[0;34m(\u001b[0m\u001b[0;34m\"Tidx\"\u001b[0m\u001b[0;34m,\u001b[0m \u001b[0m_attr_Tidx\u001b[0m\u001b[0;34m,\u001b[0m \u001b[0;34m\"T\"\u001b[0m\u001b[0;34m,\u001b[0m \u001b[0m_attr_T\u001b[0m\u001b[0;34m)\u001b[0m\u001b[0;34m\u001b[0m\u001b[0;34m\u001b[0m\u001b[0m\n\u001b[0;32m-> 9262\u001b[0;31m   _result = _execute.execute(b\"ReverseV2\", 1, inputs=_inputs_flat,\n\u001b[0m\u001b[1;32m   9263\u001b[0m                              attrs=_attrs, ctx=ctx, name=name)\n\u001b[1;32m   9264\u001b[0m   \u001b[0;32mif\u001b[0m \u001b[0m_execute\u001b[0m\u001b[0;34m.\u001b[0m\u001b[0mmust_record_gradient\u001b[0m\u001b[0;34m(\u001b[0m\u001b[0;34m)\u001b[0m\u001b[0;34m:\u001b[0m\u001b[0;34m\u001b[0m\u001b[0;34m\u001b[0m\u001b[0m\n",
            "\u001b[0;32m/usr/local/lib/python3.10/dist-packages/tensorflow/python/eager/execute.py\u001b[0m in \u001b[0;36mquick_execute\u001b[0;34m(op_name, num_outputs, inputs, attrs, ctx, name)\u001b[0m\n\u001b[1;32m     51\u001b[0m   \u001b[0;32mtry\u001b[0m\u001b[0;34m:\u001b[0m\u001b[0;34m\u001b[0m\u001b[0;34m\u001b[0m\u001b[0m\n\u001b[1;32m     52\u001b[0m     \u001b[0mctx\u001b[0m\u001b[0;34m.\u001b[0m\u001b[0mensure_initialized\u001b[0m\u001b[0;34m(\u001b[0m\u001b[0;34m)\u001b[0m\u001b[0;34m\u001b[0m\u001b[0;34m\u001b[0m\u001b[0m\n\u001b[0;32m---> 53\u001b[0;31m     tensors = pywrap_tfe.TFE_Py_Execute(ctx._handle, device_name, op_name,\n\u001b[0m\u001b[1;32m     54\u001b[0m                                         inputs, attrs, num_outputs)\n\u001b[1;32m     55\u001b[0m   \u001b[0;32mexcept\u001b[0m \u001b[0mcore\u001b[0m\u001b[0;34m.\u001b[0m\u001b[0m_NotOkStatusException\u001b[0m \u001b[0;32mas\u001b[0m \u001b[0me\u001b[0m\u001b[0;34m:\u001b[0m\u001b[0;34m\u001b[0m\u001b[0;34m\u001b[0m\u001b[0m\n",
            "\u001b[0;31mInvalidArgumentError\u001b[0m: {{function_node __wrapped__ReverseV2_device_/job:localhost/replica:0/task:0/device:CPU:0}} 'axis'[0] = 2 is out of valid range [0, 1 [Op:ReverseV2]"
          ]
        }
      ]
    },
    {
      "cell_type": "code",
      "source": [
        "matrix.ndim"
      ],
      "metadata": {
        "colab": {
          "base_uri": "https://localhost:8080/"
        },
        "id": "5M0guLj3PMjc",
        "outputId": "0bc53736-f3a1-4637-98f2-9e0d48372b15"
      },
      "execution_count": null,
      "outputs": [
        {
          "output_type": "execute_result",
          "data": {
            "text/plain": [
              "2"
            ]
          },
          "metadata": {},
          "execution_count": 60
        }
      ]
    },
    {
      "cell_type": "code",
      "source": [
        "tensor = tf.random.normal((2, 3, 4), 30, 3)"
      ],
      "metadata": {
        "id": "wj5O0plHPWh4"
      },
      "execution_count": null,
      "outputs": []
    },
    {
      "cell_type": "code",
      "source": [
        "tensor"
      ],
      "metadata": {
        "colab": {
          "base_uri": "https://localhost:8080/"
        },
        "id": "Re-PN1KaPxpi",
        "outputId": "b08b203e-32d2-4310-d39b-01915b50ecd7"
      },
      "execution_count": null,
      "outputs": [
        {
          "output_type": "execute_result",
          "data": {
            "text/plain": [
              "<tf.Tensor: shape=(2, 3, 4), dtype=float32, numpy=\n",
              "array([[[25.328594, 27.359062, 29.315594, 32.751015],\n",
              "        [31.355442, 31.958775, 33.46046 , 26.875086],\n",
              "        [27.547565, 25.291004, 31.506788, 27.665552]],\n",
              "\n",
              "       [[30.21577 , 38.51346 , 30.759115, 26.556084],\n",
              "        [26.945305, 36.987434, 33.073284, 28.620106],\n",
              "        [32.064266, 29.688057, 27.698158, 29.501705]]], dtype=float32)>"
            ]
          },
          "metadata": {},
          "execution_count": 62
        }
      ]
    },
    {
      "cell_type": "code",
      "source": [
        "tf.reverse(tensor, axis = [0])"
      ],
      "metadata": {
        "colab": {
          "base_uri": "https://localhost:8080/"
        },
        "id": "eQbV7UGEPzO6",
        "outputId": "4e32d7f0-6905-4f6c-bb59-d975fe18294e"
      },
      "execution_count": null,
      "outputs": [
        {
          "output_type": "execute_result",
          "data": {
            "text/plain": [
              "<tf.Tensor: shape=(2, 3, 4), dtype=float32, numpy=\n",
              "array([[[30.21577 , 38.51346 , 30.759115, 26.556084],\n",
              "        [26.945305, 36.987434, 33.073284, 28.620106],\n",
              "        [32.064266, 29.688057, 27.698158, 29.501705]],\n",
              "\n",
              "       [[25.328594, 27.359062, 29.315594, 32.751015],\n",
              "        [31.355442, 31.958775, 33.46046 , 26.875086],\n",
              "        [27.547565, 25.291004, 31.506788, 27.665552]]], dtype=float32)>"
            ]
          },
          "metadata": {},
          "execution_count": 63
        }
      ]
    },
    {
      "cell_type": "code",
      "source": [
        "tf.reverse(tensor, axis = [1])"
      ],
      "metadata": {
        "colab": {
          "base_uri": "https://localhost:8080/"
        },
        "id": "hhlJK4f7P6Fy",
        "outputId": "fc7f1017-4991-4302-ee95-22416fb93c16"
      },
      "execution_count": null,
      "outputs": [
        {
          "output_type": "execute_result",
          "data": {
            "text/plain": [
              "<tf.Tensor: shape=(2, 3, 4), dtype=float32, numpy=\n",
              "array([[[27.547565, 25.291004, 31.506788, 27.665552],\n",
              "        [31.355442, 31.958775, 33.46046 , 26.875086],\n",
              "        [25.328594, 27.359062, 29.315594, 32.751015]],\n",
              "\n",
              "       [[32.064266, 29.688057, 27.698158, 29.501705],\n",
              "        [26.945305, 36.987434, 33.073284, 28.620106],\n",
              "        [30.21577 , 38.51346 , 30.759115, 26.556084]]], dtype=float32)>"
            ]
          },
          "metadata": {},
          "execution_count": 64
        }
      ]
    },
    {
      "cell_type": "code",
      "source": [
        "tf.reverse(tensor, axis = [2])"
      ],
      "metadata": {
        "colab": {
          "base_uri": "https://localhost:8080/"
        },
        "id": "AGW9X-b9QHrp",
        "outputId": "a6bf63b5-e918-4376-a185-3240ca85a32e"
      },
      "execution_count": null,
      "outputs": [
        {
          "output_type": "execute_result",
          "data": {
            "text/plain": [
              "<tf.Tensor: shape=(2, 3, 4), dtype=float32, numpy=\n",
              "array([[[32.751015, 29.315594, 27.359062, 25.328594],\n",
              "        [26.875086, 33.46046 , 31.958775, 31.355442],\n",
              "        [27.665552, 31.506788, 25.291004, 27.547565]],\n",
              "\n",
              "       [[26.556084, 30.759115, 38.51346 , 30.21577 ],\n",
              "        [28.620106, 33.073284, 36.987434, 26.945305],\n",
              "        [29.501705, 27.698158, 29.688057, 32.064266]]], dtype=float32)>"
            ]
          },
          "metadata": {},
          "execution_count": 65
        }
      ]
    },
    {
      "cell_type": "code",
      "source": [
        "tf.reverse(tensor, axis = [3])"
      ],
      "metadata": {
        "colab": {
          "base_uri": "https://localhost:8080/",
          "height": 311
        },
        "id": "iIodKbevQMlb",
        "outputId": "3a5eea9f-45aa-4748-a2d9-0c178b158735"
      },
      "execution_count": null,
      "outputs": [
        {
          "output_type": "error",
          "ename": "InvalidArgumentError",
          "evalue": "{{function_node __wrapped__ReverseV2_device_/job:localhost/replica:0/task:0/device:CPU:0}} 'axis'[0] = 3 is out of valid range [0, 2 [Op:ReverseV2]",
          "traceback": [
            "\u001b[0;31m---------------------------------------------------------------------------\u001b[0m",
            "\u001b[0;31mInvalidArgumentError\u001b[0m                      Traceback (most recent call last)",
            "\u001b[0;32m<ipython-input-66-8996084808a9>\u001b[0m in \u001b[0;36m<cell line: 1>\u001b[0;34m()\u001b[0m\n\u001b[0;32m----> 1\u001b[0;31m \u001b[0mtf\u001b[0m\u001b[0;34m.\u001b[0m\u001b[0mreverse\u001b[0m\u001b[0;34m(\u001b[0m\u001b[0mtensor\u001b[0m\u001b[0;34m,\u001b[0m \u001b[0maxis\u001b[0m \u001b[0;34m=\u001b[0m \u001b[0;34m[\u001b[0m\u001b[0;36m3\u001b[0m\u001b[0;34m]\u001b[0m\u001b[0;34m)\u001b[0m\u001b[0;34m\u001b[0m\u001b[0;34m\u001b[0m\u001b[0m\n\u001b[0m",
            "\u001b[0;32m/usr/local/lib/python3.10/dist-packages/tensorflow/python/ops/gen_array_ops.py\u001b[0m in \u001b[0;36mreverse_v2\u001b[0;34m(tensor, axis, name)\u001b[0m\n\u001b[1;32m   9214\u001b[0m       \u001b[0;32mif\u001b[0m \u001b[0m_result\u001b[0m \u001b[0;32mis\u001b[0m \u001b[0;32mnot\u001b[0m \u001b[0mNotImplemented\u001b[0m\u001b[0;34m:\u001b[0m\u001b[0;34m\u001b[0m\u001b[0;34m\u001b[0m\u001b[0m\n\u001b[1;32m   9215\u001b[0m         \u001b[0;32mreturn\u001b[0m \u001b[0m_result\u001b[0m\u001b[0;34m\u001b[0m\u001b[0;34m\u001b[0m\u001b[0m\n\u001b[0;32m-> 9216\u001b[0;31m       return reverse_v2_eager_fallback(\n\u001b[0m\u001b[1;32m   9217\u001b[0m           tensor, axis, name=name, ctx=_ctx)\n\u001b[1;32m   9218\u001b[0m     \u001b[0;32mexcept\u001b[0m \u001b[0m_core\u001b[0m\u001b[0;34m.\u001b[0m\u001b[0m_SymbolicException\u001b[0m\u001b[0;34m:\u001b[0m\u001b[0;34m\u001b[0m\u001b[0;34m\u001b[0m\u001b[0m\n",
            "\u001b[0;32m/usr/local/lib/python3.10/dist-packages/tensorflow/python/ops/gen_array_ops.py\u001b[0m in \u001b[0;36mreverse_v2_eager_fallback\u001b[0;34m(tensor, axis, name, ctx)\u001b[0m\n\u001b[1;32m   9260\u001b[0m   \u001b[0m_inputs_flat\u001b[0m \u001b[0;34m=\u001b[0m \u001b[0;34m[\u001b[0m\u001b[0mtensor\u001b[0m\u001b[0;34m,\u001b[0m \u001b[0maxis\u001b[0m\u001b[0;34m]\u001b[0m\u001b[0;34m\u001b[0m\u001b[0;34m\u001b[0m\u001b[0m\n\u001b[1;32m   9261\u001b[0m   \u001b[0m_attrs\u001b[0m \u001b[0;34m=\u001b[0m \u001b[0;34m(\u001b[0m\u001b[0;34m\"Tidx\"\u001b[0m\u001b[0;34m,\u001b[0m \u001b[0m_attr_Tidx\u001b[0m\u001b[0;34m,\u001b[0m \u001b[0;34m\"T\"\u001b[0m\u001b[0;34m,\u001b[0m \u001b[0m_attr_T\u001b[0m\u001b[0;34m)\u001b[0m\u001b[0;34m\u001b[0m\u001b[0;34m\u001b[0m\u001b[0m\n\u001b[0;32m-> 9262\u001b[0;31m   _result = _execute.execute(b\"ReverseV2\", 1, inputs=_inputs_flat,\n\u001b[0m\u001b[1;32m   9263\u001b[0m                              attrs=_attrs, ctx=ctx, name=name)\n\u001b[1;32m   9264\u001b[0m   \u001b[0;32mif\u001b[0m \u001b[0m_execute\u001b[0m\u001b[0;34m.\u001b[0m\u001b[0mmust_record_gradient\u001b[0m\u001b[0;34m(\u001b[0m\u001b[0;34m)\u001b[0m\u001b[0;34m:\u001b[0m\u001b[0;34m\u001b[0m\u001b[0;34m\u001b[0m\u001b[0m\n",
            "\u001b[0;32m/usr/local/lib/python3.10/dist-packages/tensorflow/python/eager/execute.py\u001b[0m in \u001b[0;36mquick_execute\u001b[0;34m(op_name, num_outputs, inputs, attrs, ctx, name)\u001b[0m\n\u001b[1;32m     51\u001b[0m   \u001b[0;32mtry\u001b[0m\u001b[0;34m:\u001b[0m\u001b[0;34m\u001b[0m\u001b[0;34m\u001b[0m\u001b[0m\n\u001b[1;32m     52\u001b[0m     \u001b[0mctx\u001b[0m\u001b[0;34m.\u001b[0m\u001b[0mensure_initialized\u001b[0m\u001b[0;34m(\u001b[0m\u001b[0;34m)\u001b[0m\u001b[0;34m\u001b[0m\u001b[0;34m\u001b[0m\u001b[0m\n\u001b[0;32m---> 53\u001b[0;31m     tensors = pywrap_tfe.TFE_Py_Execute(ctx._handle, device_name, op_name,\n\u001b[0m\u001b[1;32m     54\u001b[0m                                         inputs, attrs, num_outputs)\n\u001b[1;32m     55\u001b[0m   \u001b[0;32mexcept\u001b[0m \u001b[0mcore\u001b[0m\u001b[0;34m.\u001b[0m\u001b[0m_NotOkStatusException\u001b[0m \u001b[0;32mas\u001b[0m \u001b[0me\u001b[0m\u001b[0;34m:\u001b[0m\u001b[0;34m\u001b[0m\u001b[0;34m\u001b[0m\u001b[0m\n",
            "\u001b[0;31mInvalidArgumentError\u001b[0m: {{function_node __wrapped__ReverseV2_device_/job:localhost/replica:0/task:0/device:CPU:0}} 'axis'[0] = 3 is out of valid range [0, 2 [Op:ReverseV2]"
          ]
        }
      ]
    },
    {
      "cell_type": "code",
      "source": [
        "tensor.ndim"
      ],
      "metadata": {
        "colab": {
          "base_uri": "https://localhost:8080/"
        },
        "id": "pdnRLIerQTTr",
        "outputId": "7e87d77f-1992-46c7-9973-b44e15aa7840"
      },
      "execution_count": null,
      "outputs": [
        {
          "output_type": "execute_result",
          "data": {
            "text/plain": [
              "3"
            ]
          },
          "metadata": {},
          "execution_count": 67
        }
      ]
    },
    {
      "cell_type": "code",
      "source": [
        "tensor"
      ],
      "metadata": {
        "colab": {
          "base_uri": "https://localhost:8080/"
        },
        "id": "s7HsHgsCQaB2",
        "outputId": "ca0bacf7-abb0-44fd-8395-e8fdb017ea63"
      },
      "execution_count": null,
      "outputs": [
        {
          "output_type": "execute_result",
          "data": {
            "text/plain": [
              "<tf.Tensor: shape=(2, 3, 4), dtype=float32, numpy=\n",
              "array([[[25.328594, 27.359062, 29.315594, 32.751015],\n",
              "        [31.355442, 31.958775, 33.46046 , 26.875086],\n",
              "        [27.547565, 25.291004, 31.506788, 27.665552]],\n",
              "\n",
              "       [[30.21577 , 38.51346 , 30.759115, 26.556084],\n",
              "        [26.945305, 36.987434, 33.073284, 28.620106],\n",
              "        [32.064266, 29.688057, 27.698158, 29.501705]]], dtype=float32)>"
            ]
          },
          "metadata": {},
          "execution_count": 68
        }
      ]
    },
    {
      "cell_type": "code",
      "source": [
        "tf.sort(tensor)"
      ],
      "metadata": {
        "colab": {
          "base_uri": "https://localhost:8080/"
        },
        "id": "hIcnwhmdRhR3",
        "outputId": "c72f861b-1ef7-4cbc-b7fd-49af2e990835"
      },
      "execution_count": null,
      "outputs": [
        {
          "output_type": "execute_result",
          "data": {
            "text/plain": [
              "<tf.Tensor: shape=(2, 3, 4), dtype=float32, numpy=\n",
              "array([[[25.328594, 27.359062, 29.315594, 32.751015],\n",
              "        [26.875086, 31.355442, 31.958775, 33.46046 ],\n",
              "        [25.291004, 27.547565, 27.665552, 31.506788]],\n",
              "\n",
              "       [[26.556084, 30.21577 , 30.759115, 38.51346 ],\n",
              "        [26.945305, 28.620106, 33.073284, 36.987434],\n",
              "        [27.698158, 29.501705, 29.688057, 32.064266]]], dtype=float32)>"
            ]
          },
          "metadata": {},
          "execution_count": 69
        }
      ]
    },
    {
      "cell_type": "code",
      "source": [],
      "metadata": {
        "id": "hNnuAWNCRl36"
      },
      "execution_count": null,
      "outputs": []
    }
  ]
}